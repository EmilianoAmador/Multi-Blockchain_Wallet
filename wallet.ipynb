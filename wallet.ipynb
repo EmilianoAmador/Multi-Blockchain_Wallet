{
 "cells": [
  {
   "cell_type": "code",
   "execution_count": 149,
   "metadata": {},
   "outputs": [
    {
     "data": {
      "text/plain": [
       "True"
      ]
     },
     "execution_count": 149,
     "metadata": {},
     "output_type": "execute_result"
    }
   ],
   "source": [
    "import pandas as pd\n",
    "import numpy as np\n",
    "import os\n",
    "import pprint\n",
    "import binascii\n",
    "import mnemonic\n",
    "import bip32utils\n",
    "from py_crypto_hd_wallet import HdWallet, HdWalletSaver, HdWalletFactory, HdWalletCoins, HdWalletSpecs, HdWalletWordsNum\n",
    "from bipwallet import wallet\n",
    "from py_hd_wallet import wallet\n",
    "import ast\n",
    "import subprocess\n",
    "import json\n",
    "from pathlib import Path\n",
    "import subprocess\n",
    "import requests\n",
    "from dotenv import load_dotenv\n",
    "\n",
    "from constants import *\n",
    "from bit import Key, PrivateKey, PrivateKeyTestnet\n",
    "from bit.network import NetworkAPI\n",
    "from web3 import Web3\n",
    "from web3.middleware import geth_poa_middleware\n",
    "from web3.gas_strategies.time_based import medium_gas_price_strategy\n",
    "from eth_account import Account\n",
    "load_dotenv()\n",
    "# df.iloc[0, df.columns.get_loc('symbol')]  getting value of a column from the value of the index"
   ]
  },
  {
   "cell_type": "code",
   "execution_count": 150,
   "metadata": {},
   "outputs": [],
   "source": [
    "# connect to local ETH using geth\n",
    "w3 = Web3(Web3.HTTPProvider(\"http://127:0:0:1:8545\"))\n",
    "w3.middleware_onion.inject(geth_poa_middleware, layer=0)\n",
    "w3.eth.setGasPriceStrategy(medium_gas_price_strategy)"
   ]
  },
  {
   "cell_type": "markdown",
   "metadata": {},
   "source": [
    "## Setup constants"
   ]
  },
  {
   "cell_type": "code",
   "execution_count": 49,
   "metadata": {},
   "outputs": [],
   "source": [
    "BTC = 'btc'\n",
    "ETH = 'eth'\n",
    "BTCTEST = 'btc-test'"
   ]
  },
  {
   "cell_type": "markdown",
   "metadata": {},
   "source": [
    "## Generate a Mnemonic"
   ]
  },
  {
   "cell_type": "code",
   "execution_count": 31,
   "metadata": {},
   "outputs": [],
   "source": [
    "#MNEMONIC = \"picnic later boss nurse main crater renew tongue orient echo path buffalo\"\n",
    "#MNEMONIC = \"horror true clip rail direct siege robot kid benefit love quarter topic\"\n",
    "NMEMONIC = \"become wool prosper pave heavy eagle helmet discover duck cattle nurse deliver\""
   ]
  },
  {
   "cell_type": "code",
   "execution_count": 37,
   "metadata": {},
   "outputs": [],
   "source": [
    "mnemonic = os.getenv('MNEMONIC')"
   ]
  },
  {
   "cell_type": "markdown",
   "metadata": {},
   "source": [
    "## Deriving Wallet Keys"
   ]
  },
  {
   "cell_type": "code",
   "execution_count": null,
   "metadata": {},
   "outputs": [],
   "source": [
    "# Define function to derive wallet\n",
    "def derive_wallets(mnemonic, coin, numderive):\n",
    "    command = f'php ./hd-wallet-derive/hd-wallet-derive.php -g --mnemonic=\"{mnemonic}\" --numderive=\"{numderive}\" --coin=\"{coin}\" --format=json' \n",
    "    p = subprocess.Popen(command, stdout=subprocess.PIPE, shell=True)\n",
    "    (output, err) = p.communicate()\n",
    "   \n",
    "    return json.loads(output)"
   ]
  },
  {
   "cell_type": "code",
   "execution_count": 87,
   "metadata": {},
   "outputs": [
    {
     "name": "stdout",
     "output_type": "stream",
     "text": [
      "{\n",
      "     \"btc-test\": [\n",
      "          {\n",
      "               \"address\": \"mg64PnnLd8e6cXe2MTHPZe5YZRqL7JmoMM\",\n",
      "               \"index\": 0,\n",
      "               \"path\": \"m/44'/1'/0'/0/0\",\n",
      "               \"privkey\": \"cQC5EEi6b3Sd23va3hsm7ELd3an87DBcamf7WARCrjkEgGLYxsHQ\",\n",
      "               \"pubkey\": \"031396cd4fec4d091a1d04ce4dec305e445a4835b396d2f965d0a0a614c1ba29ac\",\n",
      "               \"pubkeyhash\": \"0642d15e302a6bcc827fe7dbbcaedcf34b00528d\",\n",
      "               \"xprv\": \"tprv8jvwznHSrioko5FyuWBukmJoPbvMZcEhopj8JngNcv4WTBewfWSEy7Lfe7jUZeawkarE818DZWQrASVZ7MBPQzpCgNZqrnPLy9oCvjAN9Ek\",\n",
      "               \"xpub\": \"tpubDGcz9CKh16VRgYHmo9rWAAxuxdSHiwRcP8KubJig3BruHfuiHuFq9bxXpGBSxK8EvvaN8sKizD8d9XAVs1xGPXr7bPnZzCNqv9nv6TmJbn6\"\n",
      "          },\n",
      "          {\n",
      "               \"address\": \"mwzePbUy2sZ6uejXaEwcXd6N8yEybVxw7f\",\n",
      "               \"index\": 1,\n",
      "               \"path\": \"m/44'/1'/0'/0/1\",\n",
      "               \"privkey\": \"cRppt1GT1EhhH5dGk62GgctPuXC7UqXZjmYJHuXKTFa7Txm3Bu6E\",\n",
      "               \"pubkey\": \"03ba70eb9594dd18c07d6b4706a5f68daf222815bf199f649cfb076f4aea431256\",\n",
      "               \"pubkeyhash\": \"b4beb6ad2cd967c6de8924f1a51f68599520471a\",\n",
      "               \"xprv\": \"tprv8jvwznHSriokq49qCsg2R22EiTpK2v4Btzn7xEYrqkhytUzgfHdJS3LeAYqqRSogdeefNhUtEAFLRubsQu4DtEQd3G2weQ6ygLvdu47ypmw\",\n",
      "               \"xpub\": \"tpubDGcz9CKh16VRiXBd6XLcpRgMHVLFCFF6UJNuEkbAG2WNiyFTHgStcXxWLiBpiTYGvGK3WBHprTsTZugyHPm6VMM2KUvRcwNCfqpSpcQr7a5\"\n",
      "          },\n",
      "          {\n",
      "               \"address\": \"mjmmVVeDZ2yvTWFRMyQeheuJSFg3Epo34p\",\n",
      "               \"index\": 2,\n",
      "               \"path\": \"m/44'/1'/0'/0/2\",\n",
      "               \"privkey\": \"cSoHhUsjsoaJieL4svorEBKPHZJDPjxfWEXnMuXW6eFkujsV1EM8\",\n",
      "               \"pubkey\": \"024fffa92e33369fb6f85b3b588fe430e8d23cb4cfcfbb63f100f4054c4b7c3a29\",\n",
      "               \"pubkeyhash\": \"2eadb991df009e30f29b7357bb57277e7bbedd90\",\n",
      "               \"xprv\": \"tprv8jvwznHSrioksM9boREgmmUi1cb7Fy8vGwoTP3z5Zv1QA6HXNnZuB6w2Ho1U4Kaj22ay5dotsRnikysDaWFUXeSPmboXJxWbgMDZ24JzBAq\",\n",
      "               \"xpub\": \"tpubDGcz9CKh16VRkpBPh4uHBB8pae73RJKprFQEfa2NzBonzaYJ1BPVMbYtTuP3J59DDaX5sTfD5rc7K1tuzWGeK6a9tWeknZmd4qjBNot4NNC\"\n",
      "          }\n",
      "     ],\n",
      "     \"eth\": [\n",
      "          {\n",
      "               \"address\": \"0x272B4096637f964BF9F6DdbB3Dd5457E679B23B2\",\n",
      "               \"index\": 0,\n",
      "               \"path\": \"m/44'/60'/0'/0/0\",\n",
      "               \"privkey\": \"0xe8d29a3c15b28a286f16db2b3f33bbb2986037a9a3fdc5019f86a974b1b8ded1\",\n",
      "               \"pubkey\": \"03bdbb0c8475b5c3b26a47eb1b9a49a270a24939be84e85dc2003d1261681d8c00\",\n",
      "               \"pubkeyhash\": \"4de77848824abe054fe37beadb0268b85a16cce7\",\n",
      "               \"xprv\": \"xprvA3WqLzV9Xk9cx2Y7ZzKukaRWpBHi6LDEJi8AfMPLMQVbUubQo6K8dYtEyJnd4hshtVhhP7YCSZfZmcdJnXtm8C4pEtVvAqfrscALQ3t93kb\",\n",
      "               \"xpub\": \"xpub6GWBkW23N7hvAWcag1rv7iNFND8CVnw5fw3mTjnwuk2aMhvZLddPBMCipbS9xPBkgbNSV39BnmU3r5oVQ4HwJiBVr4kewCedQbaUVQEmYm7\"\n",
      "          },\n",
      "          {\n",
      "               \"address\": \"0x41179f51e13fb430d3419AA765e6C48cE49b11c9\",\n",
      "               \"index\": 1,\n",
      "               \"path\": \"m/44'/60'/0'/0/1\",\n",
      "               \"privkey\": \"0xffebd3132c2bfc102937c292d0ff3dda348a8fd2e8e18e9f3570b0623cc2491a\",\n",
      "               \"pubkey\": \"03f43626f5e409e5b7ec246d661a6fa37c8961476060184a1ae431787ff757b9b5\",\n",
      "               \"pubkeyhash\": \"dffd7bb8ced35ac131e9ee645f653ae81fd98af8\",\n",
      "               \"xprv\": \"xprvA3WqLzV9Xk9czmGPbqD9SFRVpC21gZmdtS79DD3o1F1MPNYTBFhvy4gpmudFtCWEy5yeWv5JARuZtoiRN2N5qY2dEwDBkhk5VK1NacX5W1n\",\n",
      "               \"xpub\": \"xpub6GWBkW23N7hvDFLrhrk9oPNENDrW62VVFf2k1bTQZaYLGAsbio2BWs1JdCWcPqRKRBSMVoZLJRJhDRAutfQfxF7Pv8yEQw4qQAQhRm35FQ4\"\n",
      "          },\n",
      "          {\n",
      "               \"address\": \"0xB082B7FE14AdCc7d9ADc440253e9BaC1AeDB14b3\",\n",
      "               \"index\": 2,\n",
      "               \"path\": \"m/44'/60'/0'/0/2\",\n",
      "               \"privkey\": \"0x3f81e3a68c22436c0b5c7d4eb986d1e4a226bef9fbffed84ba60bb513018515b\",\n",
      "               \"pubkey\": \"0371d81970623344800abb28b28ff7cdc49528943a83840fbaa9d7390937e69859\",\n",
      "               \"pubkeyhash\": \"142ee9efa953cc975192d4cc17c045ef1d0737b4\",\n",
      "               \"xprv\": \"xprvA3WqLzV9Xk9d26UoJ1izbqDPdn3xsGDCqLtXNWAxgx9R77hvfeL3YhRQte7HPCLiUL2Es2dV1aZAb5w3rzPXLg98zjEtfroNK7yxSw6qZV8\",\n",
      "               \"xpub\": \"xpub6GWBkW23N7hvEaZGQ3FzxyA8BotTGiw4CZp8AtaaFHgPyv35DBeJ6VjtjwTxnbLjK1JJRCsaCK3zHGXVoC5eeZoxRrHnrAwHLADYVCAKXok\"\n",
      "          }\n",
      "     ]\n",
      "}\n"
     ]
    }
   ],
   "source": [
    "# wallet keys\n",
    "coins = {'btc-test': derive_wallets(MNEMONIC, 'btc-test', 3), 'eth':derive_wallets(MNEMONIC, 'eth', 3)}\n",
    "print(json.dumps(coins, indent=5, sort_keys = True))"
   ]
  },
  {
   "cell_type": "code",
   "execution_count": 92,
   "metadata": {},
   "outputs": [
    {
     "data": {
      "text/plain": [
       "'0xe8d29a3c15b28a286f16db2b3f33bbb2986037a9a3fdc5019f86a974b1b8ded1'"
      ]
     },
     "execution_count": 92,
     "metadata": {},
     "output_type": "execute_result"
    }
   ],
   "source": [
    "btc_key = coins['btc-test'][0]['privkey']\n",
    "eth_key = coins['eth'][0]['privkey']\n",
    "eth_key"
   ]
  },
  {
   "cell_type": "markdown",
   "metadata": {},
   "source": [
    "# Linking The Transaction Signing Libraries"
   ]
  },
  {
   "cell_type": "code",
   "execution_count": 143,
   "metadata": {},
   "outputs": [],
   "source": [
    "# Creates an account from a private key\n",
    "def priv_key_to_account(coin, priv_key):\n",
    "    global account\n",
    "    if coin == \"eth\":\n",
    "        account = Account.privateKeyToAccount(priv_key)\n",
    "    elif coin == \"btc\":\n",
    "        account = PrivateKeyTestnet(priv_key)\n",
    "        return account\n",
    "    else:\n",
    "        return print(\"Please use lower case. If this error persists, please use another coin.\")\n",
    "    "
   ]
  },
  {
   "cell_type": "code",
   "execution_count": 109,
   "metadata": {},
   "outputs": [
    {
     "data": {
      "text/plain": [
       "<eth_account.signers.local.LocalAccount at 0x19ffac6f0c8>"
      ]
     },
     "execution_count": 109,
     "metadata": {},
     "output_type": "execute_result"
    }
   ],
   "source": [
    "ETH_account = priv_key_to_account(ETH, eth_key)\n",
    "ETH_account"
   ]
  },
  {
   "cell_type": "code",
   "execution_count": 110,
   "metadata": {},
   "outputs": [
    {
     "data": {
      "text/plain": [
       "<PrivateKeyTestnet: mg64PnnLd8e6cXe2MTHPZe5YZRqL7JmoMM>"
      ]
     },
     "execution_count": 110,
     "metadata": {},
     "output_type": "execute_result"
    }
   ],
   "source": [
    "BTC_account = priv_key_to_account(BTC, btc_key)\n",
    "BTC_account"
   ]
  },
  {
   "cell_type": "code",
   "execution_count": 141,
   "metadata": {},
   "outputs": [],
   "source": [
    "# This will create the transaction raw and unsigned. Serves as a preview transaction before sending it.\n",
    "def create_tx(coin, account, recipient, amount):\n",
    "    global tx_data\n",
    "    if coin =='eth':\n",
    "        gasEstimate = w3.eth.estimateGas(\n",
    "            {\"from\": account.address, \"to\": recipient, \"value\": amount}\n",
    "        )\n",
    "        tx_data = {\n",
    "            \"from\": account.address,\n",
    "            \"to\": recipient,\n",
    "            \"value\": amount,\n",
    "            \"gasPrice\": w3.eth.gasPrice,\n",
    "            \"gas\": gasEstimate,\n",
    "            \"nonce\": w3.eth.getTransactionCount(account.address),\n",
    "        }\n",
    "        return tx_data\n",
    "    elif coin == 'btc':\n",
    "        tx_data = PrivateKeyTestnet.prepare_transaction(account.address, [(recipient, amount, BTC)])\n",
    "        return tx_data\n",
    "    else:\n",
    "        return print(\"Please use lower case. If this error persists, please use another coin.\")"
   ]
  },
  {
   "cell_type": "code",
   "execution_count": 142,
   "metadata": {},
   "outputs": [],
   "source": [
    "# Signs the transaction created and sends it to a designated network\n",
    "def send_tx(coin, account, recipient, amount):\n",
    "    \n",
    "    if coin == 'eth':\n",
    "        tx = create_tx(coin,account, recipient, amount)\n",
    "        signed_tx = account.sign_transaction(tx)\n",
    "        result = w3.eth.sendRawTransaction(signed_tx.rawTransaction)\n",
    "        print(result.hex())\n",
    "        return result.hex()\n",
    "    elif coin == 'btc':\n",
    "        #tx_send = create_tx(coin, account, recipient, amount)\n",
    "        signed = account.sign_transaction(tx_data)\n",
    "        NetworkAPI.broadcast_tx_testnet(signed)\n",
    "        return signed"
   ]
  },
  {
   "cell_type": "markdown",
   "metadata": {},
   "source": [
    "# Send Some Transactions"
   ]
  },
  {
   "cell_type": "markdown",
   "metadata": {},
   "source": [
    "#### Bitcoin transaction"
   ]
  },
  {
   "cell_type": "code",
   "execution_count": 138,
   "metadata": {},
   "outputs": [
    {
     "data": {
      "text/plain": [
       "{'unspents': [{'amount': 100000,\n",
       "   'confirmations': -1805198,\n",
       "   'script': '76a9140642d15e302a6bcc827fe7dbbcaedcf34b00528d88ac',\n",
       "   'txid': '6fb59dbbd856ab12e2f40d71a0975af27f053df37dc014e7437d7d0c86039f62',\n",
       "   'txindex': 1,\n",
       "   'type': 'p2pkh',\n",
       "   'vsize': 148,\n",
       "   'segwit': False}],\n",
       " 'outputs': [['mwzePbUy2sZ6uejXaEwcXd6N8yEybVxw7f', 10000],\n",
       "  ['mg64PnnLd8e6cXe2MTHPZe5YZRqL7JmoMM', 41184]]}"
      ]
     },
     "execution_count": 138,
     "metadata": {},
     "output_type": "execute_result"
    }
   ],
   "source": [
    "# Create Tx\n",
    "BTC_recipient = 'mwzePbUy2sZ6uejXaEwcXd6N8yEybVxw7f'\n",
    "Bitcoin_amount = 0.0001\n",
    "\n",
    "my_transaction = create_tx(BTC, BTC_account, BTC_recipient, Bitcoin_amount)\n",
    "json.loads(my_transaction)"
   ]
  },
  {
   "cell_type": "code",
   "execution_count": 147,
   "metadata": {},
   "outputs": [
    {
     "name": "stdout",
     "output_type": "stream",
     "text": [
      "0100000001629f03860c7d7d43e714c07df33d057ff25a97a0710df4e212ab56d8bb9db56f010000006b483045022100e7a444c25a116bcacd21fb5763598f3c6993d8b9c1d85bdd125d532e3b310e3902204955f8c6efc1ae1c7c6dc3f8f9630b9463b3af711bf08d444cb5e3388d599a700121031396cd4fec4d091a1d04ce4dec305e445a4835b396d2f965d0a0a614c1ba29acffffffff0210270000000000001976a914b4beb6ad2cd967c6de8924f1a51f68599520471a88ace0a00000000000001976a9140642d15e302a6bcc827fe7dbbcaedcf34b00528d88ac00000000\n"
     ]
    }
   ],
   "source": [
    "# send transaction\n",
    "sent_btc = send_tx(BTC, BTC_account, BTC_recipient, Bitcoin_amount)\n",
    "print(sent_btc)"
   ]
  },
  {
   "cell_type": "markdown",
   "metadata": {},
   "source": [
    "#### Ethereum transaction Local PoA"
   ]
  },
  {
   "cell_type": "code",
   "execution_count": 158,
   "metadata": {},
   "outputs": [],
   "source": [
    "# connecting to HTTP with private key\n",
    "w3 = Web3(Web3.HTTPProvider(\"http://127.0.0.1:8545/0xe8d29a3c15b28a286f16db2b3f33bbb2986037a9a3fdc5019f86a974b1b8ded1\"))"
   ]
  },
  {
   "cell_type": "code",
   "execution_count": 170,
   "metadata": {},
   "outputs": [
    {
     "data": {
      "text/plain": [
       "True"
      ]
     },
     "execution_count": 170,
     "metadata": {},
     "output_type": "execute_result"
    }
   ],
   "source": [
    "w3.isConnected()"
   ]
  },
  {
   "cell_type": "code",
   "execution_count": 164,
   "metadata": {},
   "outputs": [
    {
     "data": {
      "text/plain": [
       "30000000000000000000"
      ]
     },
     "execution_count": 164,
     "metadata": {},
     "output_type": "execute_result"
    }
   ],
   "source": [
    "# checking balance with address_1\n",
    "w3.eth.getBalance(\"0x272B4096637f964BF9F6DdbB3Dd5457E679B23B2\")"
   ]
  },
  {
   "cell_type": "code",
   "execution_count": 167,
   "metadata": {},
   "outputs": [
    {
     "data": {
      "text/plain": [
       "{'from': '0x272B4096637f964BF9F6DdbB3Dd5457E679B23B2',\n",
       " 'to': '0x41179f51e13fb430d3419AA765e6C48cE49b11c9',\n",
       " 'value': 10000000000000000000,\n",
       " 'gasPrice': 20000000000,\n",
       " 'gas': 21000,\n",
       " 'nonce': 0}"
      ]
     },
     "execution_count": 167,
     "metadata": {},
     "output_type": "execute_result"
    }
   ],
   "source": [
    "# create tx\n",
    "ETH_recipient_to = '0x41179f51e13fb430d3419AA765e6C48cE49b11c9'\n",
    "Ethereum_amount = 10000000000000000000\n",
    "my_eth_transaction = create_tx(ETH, ETH_account, ETH_recipient_to, Ethereum_amount)\n",
    "my_eth_transaction"
   ]
  },
  {
   "cell_type": "code",
   "execution_count": 168,
   "metadata": {},
   "outputs": [
    {
     "name": "stdout",
     "output_type": "stream",
     "text": [
      "0xf7df706e2cfc28fa5fd05d3a9ace383beb2e6f6e9c00fb88d1c49e634c6ea062\n"
     ]
    },
    {
     "data": {
      "text/plain": [
       "'0xf7df706e2cfc28fa5fd05d3a9ace383beb2e6f6e9c00fb88d1c49e634c6ea062'"
      ]
     },
     "execution_count": 168,
     "metadata": {},
     "output_type": "execute_result"
    }
   ],
   "source": [
    "# send tx\n",
    "sent_eth = send_tx(ETH, ETH_account, ETH_recipient_to, Ethereum_amount)\n",
    "sent_eth"
   ]
  },
  {
   "cell_type": "code",
   "execution_count": 171,
   "metadata": {},
   "outputs": [
    {
     "data": {
      "text/plain": [
       "10000000000000000000"
      ]
     },
     "execution_count": 171,
     "metadata": {},
     "output_type": "execute_result"
    }
   ],
   "source": [
    "# checking balance on recipient account (account that received funds)\n",
    "w3.eth.getBalance(ETH_recipient_to)"
   ]
  },
  {
   "cell_type": "code",
   "execution_count": 177,
   "metadata": {},
   "outputs": [
    {
     "data": {
      "text/plain": [
       "AttributeDict({'number': 33,\n",
       " 'hash': HexBytes('0x092b209cdb3bf90a006e1c07acb1e9a6e2de86504f5ab464017eeff5fa719aaa'),\n",
       " 'parentHash': HexBytes('0x051224df8e9f0dbfa9f27336c30a47944e746bda52cc4db1bea0140f1d0b28c7'),\n",
       " 'mixHash': HexBytes('0x0000000000000000000000000000000000000000000000000000000000000000'),\n",
       " 'nonce': HexBytes('0x0000000000000000'),\n",
       " 'sha3Uncles': HexBytes('0x1dcc4de8dec75d7aab85b567b6ccd41ad312451b948a7413f0a142fd40d49347'),\n",
       " 'logsBloom': HexBytes('0x00000000000000000000000000000000000000000000000000000000000000000000000000000000000000000000000000000000000000000000000000000000000000000000000000000000000000000000000000000000000000000000000000000000000000000000000000000000000000000000000000000000000000000000000000000000000000000000000000000000000000000000000000000000000000000000000000000000000000000000000000000000000000000000000000000000000000000000000000000000000000000000000000000000000000000000000000000000000000000000000000000000000000000000000000000000'),\n",
       " 'transactionsRoot': HexBytes('0x2e23dfd92676e37245f60eeda27732c27742170c2dbb323f56885106fce922d9'),\n",
       " 'stateRoot': HexBytes('0x6e53221619b4ed592958d9dcc97fd590dfad7c351615c3caeffe16f62f135ee9'),\n",
       " 'receiptsRoot': HexBytes('0x056b23fbba480696b65fe5a59b8f2148a1299103c4f57df839233af2cf4ca2d2'),\n",
       " 'miner': '0x0000000000000000000000000000000000000000',\n",
       " 'difficulty': 0,\n",
       " 'totalDifficulty': 0,\n",
       " 'extraData': HexBytes('0x'),\n",
       " 'size': 1000,\n",
       " 'gasLimit': 6721975,\n",
       " 'gasUsed': 21000,\n",
       " 'timestamp': 1596766106,\n",
       " 'transactions': [HexBytes('0xf7df706e2cfc28fa5fd05d3a9ace383beb2e6f6e9c00fb88d1c49e634c6ea062')],\n",
       " 'uncles': []})"
      ]
     },
     "execution_count": 177,
     "metadata": {},
     "output_type": "execute_result"
    }
   ],
   "source": [
    "# getting latest block to preview successful transaction.\n",
    "first_transaction = w3.eth.getBlock('latest')\n",
    "first_transaction"
   ]
  },
  {
   "cell_type": "markdown",
   "metadata": {},
   "source": [
    "**In conclusion: the receiving account (address_2) received their funds of 10000000000000000000 ETH successfully from account 1. Account one now has a little less that 20000000000000000000 ETH. This was possible using gnache nodes connected with my mnemonic on my local machine. The above is the block where the transaction was recorded. Note that the block is placed in a tuple because it can not be updated or altered.**"
   ]
  },
  {
   "cell_type": "code",
   "execution_count": null,
   "metadata": {},
   "outputs": [],
   "source": []
  }
 ],
 "metadata": {
  "kernelspec": {
   "display_name": "Python 3",
   "language": "python",
   "name": "python3"
  },
  "language_info": {
   "codemirror_mode": {
    "name": "ipython",
    "version": 3
   },
   "file_extension": ".py",
   "mimetype": "text/x-python",
   "name": "python",
   "nbconvert_exporter": "python",
   "pygments_lexer": "ipython3",
   "version": "3.7.4"
  }
 },
 "nbformat": 4,
 "nbformat_minor": 4
}
